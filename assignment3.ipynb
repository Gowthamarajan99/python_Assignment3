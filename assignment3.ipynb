{
 "cells": [
  {
   "cell_type": "code",
   "execution_count": 4,
   "metadata": {},
   "outputs": [
    {
     "name": "stdout",
     "output_type": "stream",
     "text": [
      "Enter elements :2\n",
      "Enter elements :3\n",
      "Enter elements :4\n",
      "Enter elements :5\n",
      "Enter elements :6\n",
      "Sum of all element in list a : 20\n",
      "Product of all elements in list a : 720\n"
     ]
    }
   ],
   "source": [
    "def Reduce(fun, li):\n",
    "    x = li[0]\n",
    "    \n",
    "    for i in range(1, len(li)):\n",
    "        x = fun(x, li[i])\n",
    "    \n",
    "    return x\n",
    "\n",
    "def A(x1, x2):\n",
    "    return x1 + x2\n",
    "\n",
    "def B(x1, x2):\n",
    "    return(x1 * x2)\n",
    "\n",
    "a = []\n",
    "for i in range(5):\n",
    "    b=int(input('Enter elements :'))\n",
    "    a.append(b)\n",
    "    \n",
    "\n",
    "print(\"Sum of all element in list a :\", Reduce(A, a))\n",
    "print(\"Product of all elements in list a :\", Reduce(B, a))"
   ]
  },
  {
   "cell_type": "code",
   "execution_count": 11,
   "metadata": {},
   "outputs": [
    {
     "name": "stdout",
     "output_type": "stream",
     "text": [
      "[10, 20, 50]\n",
      "[5, 21, 45, 5, 43, 9]\n"
     ]
    }
   ],
   "source": [
    "\n",
    "def Filter(fun, li):\n",
    "    li1 = []\n",
    "    li2 = []\n",
    "    \n",
    "    for i in li:\n",
    "        li1.append(fun(i))\n",
    "    \n",
    "    for i in range(0, len(li1)):\n",
    "        \n",
    "        if li1[i] == False:\n",
    "            continue\n",
    "        \n",
    "        else:\n",
    "            li2.append(li1[i])\n",
    "    \n",
    "    return li2\n",
    "        \n",
    "def multiple_ten(i):\n",
    "    \n",
    "    if i%10==0:\n",
    "        return i\n",
    "    \n",
    "    else:\n",
    "        return False\n",
    "\n",
    "def odd_number(i):\n",
    "    if i%2 == 1:\n",
    "        return i\n",
    "    else:\n",
    "        return False\n",
    "\n",
    "a,b=[10,20,34,50,43,92,81,12],[70,2,4,5,21,45,32,56,5,43,9]    \n",
    "print(Filter(multiple_ten,a ))\n",
    "print(Filter(odd_number,b))    "
   ]
  },
  {
   "cell_type": "code",
   "execution_count": 15,
   "metadata": {},
   "outputs": [
    {
     "name": "stdout",
     "output_type": "stream",
     "text": [
      "['A', 'C', 'A', 'D', 'G', 'I', 'L', 'D']\n",
      "['x', 'xx', 'xxx', 'xxxx', 'y', 'yy', 'yyy', 'yyyy', 'z', 'zz', 'zzz', 'zzzz']\n",
      "['x', 'y', 'z', 'xx', 'yy', 'zz', 'xxx', 'yyy', 'zzz', 'xxxx', 'yyyy', 'zzzz']\n",
      "[[2], [3], [4], [3], [4], [5], [4], [5], [6]]\n",
      "[[2, 3, 4, 5], [3, 4, 5, 6], [4, 5, 6, 7], [5, 6, 7, 8]]\n",
      "[(1, 1), (2, 1), (3, 1), (1, 2), (2, 2), (3, 2), (1, 3), (2, 3), (3, 3)]\n"
     ]
    }
   ],
   "source": [
    "l = [i for i in 'ACADGILD']\n",
    "A = [i * j for j in ['x', 'y', 'z'] for i in range(1, 5)]\n",
    "B = [i * j for j in range(1, 5) for i in ['x', 'y', 'z']]\n",
    "C = [[i + j] for j in [0, 1, 2] for i in range(2, 5)]\n",
    "D = [[i + j for j in [0, 1, 2, 3]] for i in range(2, 6)]\n",
    "E= [(i,j) for j in [1, 2, 3] for i in [1, 2, 3]]\n",
    "print(l)\n",
    "print(A)\n",
    "print(B)\n",
    "print(C)\n",
    "print(D)\n",
    "print(E)"
   ]
  },
  {
   "cell_type": "code",
   "execution_count": 17,
   "metadata": {},
   "outputs": [
    {
     "name": "stdout",
     "output_type": "stream",
     "text": [
      "List of words:['darshini', 'sagar', 'saravana', 'mani', 'gowtham']\n",
      "List of wordlength:[8, 5, 8, 4, 7]\n"
     ]
    }
   ],
   "source": [
    "listOfWords = ['darshini','sagar','saravana','mani','gowtham']\n",
    " \n",
    "listOfInts = []\n",
    " \n",
    "for i in range(len(listOfWords)):\n",
    "    listOfInts.append(len(listOfWords[i]))\n",
    " \n",
    "print(\"List of words:\"+str(listOfWords))    \n",
    "print(\"List of wordlength:\"+str(listOfInts))"
   ]
  },
  {
   "cell_type": "code",
   "execution_count": 21,
   "metadata": {},
   "outputs": [
    {
     "name": "stdout",
     "output_type": "stream",
     "text": [
      "6.0\n",
      "There are 3 sides.\n"
     ]
    }
   ],
   "source": [
    "class Polygon:\n",
    "\n",
    "    def __init__(self, n):\n",
    "        self.number_of_sides = n\n",
    "\n",
    "    def print_num_sides(self):\n",
    "        \n",
    "        print('There are ' + str(self.number_of_sides) + ' sides.')\n",
    "        \n",
    "class Triangle(Polygon):\n",
    "\n",
    "    def __init__(self, lengths_of_sides):\n",
    "        Polygon.__init__(self, 3)\n",
    "        self.lengths_of_sides = lengths_of_sides \n",
    "    def get_area(self):\n",
    "\n",
    "        a, b, c = self.lengths_of_sides\n",
    "\n",
    "  \n",
    "        s = (a + b + c) / 2\n",
    "        return (s*(s-a)*(s-b)*(s-c)) ** 0.5\n",
    "    \n",
    "\n",
    "tri = Triangle([3, 4, 5,])\n",
    "print(tri.get_area())\n",
    "tri.print_num_sides()"
   ]
  },
  {
   "cell_type": "code",
   "execution_count": 25,
   "metadata": {},
   "outputs": [
    {
     "data": {
      "text/plain": [
       "['bigword']"
      ]
     },
     "execution_count": 25,
     "metadata": {},
     "output_type": "execute_result"
    }
   ],
   "source": [
    "def filter_long_words(words, n):\n",
    "    return filter(lambda x: len(x) > n, words)\n",
    "\n",
    "\n",
    "list(filter_long_words(['one','two','bigword'], 5))"
   ]
  },
  {
   "cell_type": "code",
   "execution_count": 31,
   "metadata": {},
   "outputs": [
    {
     "name": "stdout",
     "output_type": "stream",
     "text": [
      "[3, 3, 7]\n",
      "[3, 3, 7]\n"
     ]
    }
   ],
   "source": [
    "def map_to_lengths_for(words):\n",
    "    lengths = []\n",
    "    for word in words:\n",
    "        lengths.append(len(word))\n",
    "    return lengths\n",
    "\n",
    "def map_to_lengths_lists(words):\n",
    "    return [len(word) for word in words]\n",
    "\n",
    "def map_to_lengths_map(words):\n",
    "    return map(len, words)\n",
    "\n",
    "\n",
    "\n",
    "if __name__ == \"__main__\":\n",
    "    words = ['abc', 'cde', 'gowtham']\n",
    "    print(map_to_lengths_for(words))\n",
    "    list(map_to_lengths_map(words))\n",
    "    print(map_to_lengths_lists(words))"
   ]
  },
  {
   "cell_type": "code",
   "execution_count": 38,
   "metadata": {},
   "outputs": [
    {
     "name": "stdout",
     "output_type": "stream",
     "text": [
      "False\n",
      "True\n",
      "False\n"
     ]
    }
   ],
   "source": [
    "def is_vowel(char):\n",
    "    vowels = ('a', 'e', 'i', 'o', 'u')\n",
    "    if char not in vowels:\n",
    "        return False\n",
    "    return True\n",
    "\n",
    "\n",
    "if __name__ == \"__main__\":\n",
    "    print(is_vowel(1))\n",
    "    print(is_vowel('a'))\n",
    "    print(is_vowel('b'))"
   ]
  },
  {
   "cell_type": "code",
   "execution_count": null,
   "metadata": {},
   "outputs": [],
   "source": []
  }
 ],
 "metadata": {
  "kernelspec": {
   "display_name": "Python 3",
   "language": "python",
   "name": "python3"
  },
  "language_info": {
   "codemirror_mode": {
    "name": "ipython",
    "version": 3
   },
   "file_extension": ".py",
   "mimetype": "text/x-python",
   "name": "python",
   "nbconvert_exporter": "python",
   "pygments_lexer": "ipython3",
   "version": "3.7.6"
  }
 },
 "nbformat": 4,
 "nbformat_minor": 4
}
